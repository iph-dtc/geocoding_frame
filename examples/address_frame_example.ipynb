{
 "cells": [
  {
   "attachments": {},
   "cell_type": "markdown",
   "metadata": {},
   "source": [
    "### Imports and AddressFrame init"
   ]
  },
  {
   "cell_type": "code",
   "execution_count": 1,
   "metadata": {},
   "outputs": [],
   "source": [
    "import pandas as pd\n",
    "from address_frame import AddressFrame\n",
    "df = pd.read_csv('../data/test_adds.csv')\n",
    "adf = AddressFrame(df, 'address', 'city', 'state', 'zipcode')"
   ]
  },
  {
   "attachments": {},
   "cell_type": "markdown",
   "metadata": {},
   "source": [
    "### Cleaning and Geocoding\n",
    "> Since cleaning is not required (but is recommended) cleaning and geocoding can be done individually or together"
   ]
  },
  {
   "attachments": {},
   "cell_type": "markdown",
   "metadata": {},
   "source": [
    "##### Individually"
   ]
  },
  {
   "cell_type": "code",
   "execution_count": null,
   "metadata": {},
   "outputs": [],
   "source": [
    "adf.clean_streets().clean_cities().clean_zips() # optional\n",
    "adf.geocode(geo_report=True) # set geo_report=True to print out short report after geocoding (could go to logs eventually)"
   ]
  },
  {
   "attachments": {},
   "cell_type": "markdown",
   "metadata": {},
   "source": [
    "##### Together"
   ]
  },
  {
   "cell_type": "code",
   "execution_count": 3,
   "metadata": {},
   "outputs": [
    {
     "name": "stdout",
     "output_type": "stream",
     "text": [
      "Geocoded dataset in 0.32s.\n",
      "\n",
      "            Total Addresses: 5\n",
      "            State Filtered Addresses: 0\n",
      "            Geo Results: 5\n",
      "            Geo Result %: 100.00%\n",
      "            Geo Results w/ State Filter Correction: 100.00%\n",
      "\n",
      "            \n"
     ]
    }
   ],
   "source": [
    "adf.clean_and_geocode(geo_report=True) # can also access geo_report here"
   ]
  },
  {
   "attachments": {},
   "cell_type": "markdown",
   "metadata": {},
   "source": [
    "### Pandas methods\n",
    "> All Pandas methods are accessible via adf.frame."
   ]
  },
  {
   "cell_type": "code",
   "execution_count": 3,
   "metadata": {},
   "outputs": [
    {
     "data": {
      "text/html": [
       "<div>\n",
       "<style scoped>\n",
       "    .dataframe tbody tr th:only-of-type {\n",
       "        vertical-align: middle;\n",
       "    }\n",
       "\n",
       "    .dataframe tbody tr th {\n",
       "        vertical-align: top;\n",
       "    }\n",
       "\n",
       "    .dataframe thead th {\n",
       "        text-align: right;\n",
       "    }\n",
       "</style>\n",
       "<table border=\"1\" class=\"dataframe\">\n",
       "  <thead>\n",
       "    <tr style=\"text-align: right;\">\n",
       "      <th></th>\n",
       "      <th>address_id</th>\n",
       "      <th>address</th>\n",
       "      <th>city</th>\n",
       "      <th>state</th>\n",
       "      <th>zipcode</th>\n",
       "      <th>cleaned_add_field</th>\n",
       "      <th>cleaned_city_field</th>\n",
       "      <th>cleaned_zip_field</th>\n",
       "      <th>geo</th>\n",
       "      <th>lat</th>\n",
       "      <th>lon</th>\n",
       "    </tr>\n",
       "  </thead>\n",
       "  <tbody>\n",
       "    <tr>\n",
       "      <th>0</th>\n",
       "      <td>0</td>\n",
       "      <td>5201 Southwest Ave</td>\n",
       "      <td>St. Louis</td>\n",
       "      <td>MO</td>\n",
       "      <td>63139</td>\n",
       "      <td>5201 SOUTHWEST AVE</td>\n",
       "      <td>SAINT LOUIS</td>\n",
       "      <td>63139</td>\n",
       "      <td>(Favazza's on the Hill, 5201, Southwest Avenue...</td>\n",
       "      <td>38.611517</td>\n",
       "      <td>-90.273913</td>\n",
       "    </tr>\n",
       "    <tr>\n",
       "      <th>1</th>\n",
       "      <td>1</td>\n",
       "      <td>2225 Macklind Ave Suite #10</td>\n",
       "      <td>St. Louis</td>\n",
       "      <td>MO</td>\n",
       "      <td>63110-1234</td>\n",
       "      <td>2225 MACKLIND AVE</td>\n",
       "      <td>SAINT LOUIS</td>\n",
       "      <td>63110</td>\n",
       "      <td>(Anthonino's Taverna, 2225, Macklind Avenue, T...</td>\n",
       "      <td>38.614366</td>\n",
       "      <td>-90.277930</td>\n",
       "    </tr>\n",
       "    <tr>\n",
       "      <th>2</th>\n",
       "      <td>2</td>\n",
       "      <td>1934 Macklind Ave</td>\n",
       "      <td>Saint Louis</td>\n",
       "      <td>MO</td>\n",
       "      <td>63110</td>\n",
       "      <td>1934 MACKLIND AVE</td>\n",
       "      <td>SAINT LOUIS</td>\n",
       "      <td>63110</td>\n",
       "      <td>(1934, Macklind Avenue, The Hill, Gratiot, Sai...</td>\n",
       "      <td>38.617635</td>\n",
       "      <td>-90.276862</td>\n",
       "    </tr>\n",
       "    <tr>\n",
       "      <th>3</th>\n",
       "      <td>3</td>\n",
       "      <td>5256 Wilson Ave Apt 3</td>\n",
       "      <td>St. Louis</td>\n",
       "      <td>MO</td>\n",
       "      <td>63110-1048</td>\n",
       "      <td>5256 WILSON AVE</td>\n",
       "      <td>SAINT LOUIS</td>\n",
       "      <td>63110</td>\n",
       "      <td>(5256, Wilson Avenue, The Hill, Gratiot, Saint...</td>\n",
       "      <td>38.615758</td>\n",
       "      <td>-90.274098</td>\n",
       "    </tr>\n",
       "    <tr>\n",
       "      <th>4</th>\n",
       "      <td>4</td>\n",
       "      <td>5046 Shaw Ave</td>\n",
       "      <td>St Louis</td>\n",
       "      <td>MO</td>\n",
       "      <td>63110</td>\n",
       "      <td>5046 SHAW AVE</td>\n",
       "      <td>SAINT LOUIS</td>\n",
       "      <td>63110</td>\n",
       "      <td>(Guidos Pizzeria and Tapas, 5046, Shaw Avenue,...</td>\n",
       "      <td>38.617596</td>\n",
       "      <td>-90.270427</td>\n",
       "    </tr>\n",
       "  </tbody>\n",
       "</table>\n",
       "</div>"
      ],
      "text/plain": [
       "   address_id                      address         city state     zipcode  \\\n",
       "0           0           5201 Southwest Ave    St. Louis    MO       63139   \n",
       "1           1  2225 Macklind Ave Suite #10    St. Louis    MO  63110-1234   \n",
       "2           2            1934 Macklind Ave  Saint Louis    MO       63110   \n",
       "3           3        5256 Wilson Ave Apt 3    St. Louis    MO  63110-1048   \n",
       "4           4                5046 Shaw Ave     St Louis    MO       63110   \n",
       "\n",
       "    cleaned_add_field cleaned_city_field cleaned_zip_field  \\\n",
       "0  5201 SOUTHWEST AVE        SAINT LOUIS             63139   \n",
       "1   2225 MACKLIND AVE        SAINT LOUIS             63110   \n",
       "2   1934 MACKLIND AVE        SAINT LOUIS             63110   \n",
       "3     5256 WILSON AVE        SAINT LOUIS             63110   \n",
       "4       5046 SHAW AVE        SAINT LOUIS             63110   \n",
       "\n",
       "                                                 geo        lat        lon  \n",
       "0  (Favazza's on the Hill, 5201, Southwest Avenue...  38.611517 -90.273913  \n",
       "1  (Anthonino's Taverna, 2225, Macklind Avenue, T...  38.614366 -90.277930  \n",
       "2  (1934, Macklind Avenue, The Hill, Gratiot, Sai...  38.617635 -90.276862  \n",
       "3  (5256, Wilson Avenue, The Hill, Gratiot, Saint...  38.615758 -90.274098  \n",
       "4  (Guidos Pizzeria and Tapas, 5046, Shaw Avenue,...  38.617596 -90.270427  "
      ]
     },
     "execution_count": 3,
     "metadata": {},
     "output_type": "execute_result"
    }
   ],
   "source": [
    "adf.frame.head()"
   ]
  },
  {
   "cell_type": "code",
   "execution_count": 6,
   "metadata": {},
   "outputs": [
    {
     "data": {
      "text/plain": [
       "(5, 5)"
      ]
     },
     "execution_count": 6,
     "metadata": {},
     "output_type": "execute_result"
    }
   ],
   "source": [
    "adf.frame.shape"
   ]
  },
  {
   "cell_type": "code",
   "execution_count": 9,
   "metadata": {},
   "outputs": [
    {
     "name": "stdout",
     "output_type": "stream",
     "text": [
      "<class 'pandas.core.frame.DataFrame'>\n",
      "RangeIndex: 5 entries, 0 to 4\n",
      "Data columns (total 5 columns):\n",
      " #   Column      Non-Null Count  Dtype \n",
      "---  ------      --------------  ----- \n",
      " 0   address_id  5 non-null      int64 \n",
      " 1   address     5 non-null      object\n",
      " 2   city        5 non-null      object\n",
      " 3   state       5 non-null      object\n",
      " 4   zipcode     5 non-null      object\n",
      "dtypes: int64(1), object(4)\n",
      "memory usage: 328.0+ bytes\n"
     ]
    }
   ],
   "source": [
    "adf.frame.info()"
   ]
  },
  {
   "cell_type": "code",
   "execution_count": 11,
   "metadata": {},
   "outputs": [
    {
     "data": {
      "text/plain": [
       "address_id    5\n",
       "address       5\n",
       "city          3\n",
       "state         1\n",
       "zipcode       4\n",
       "dtype: int64"
      ]
     },
     "execution_count": 11,
     "metadata": {},
     "output_type": "execute_result"
    }
   ],
   "source": [
    "adf.frame.nunique()"
   ]
  },
  {
   "cell_type": "code",
   "execution_count": null,
   "metadata": {},
   "outputs": [],
   "source": []
  }
 ],
 "metadata": {
  "kernelspec": {
   "display_name": "sti",
   "language": "python",
   "name": "python3"
  },
  "language_info": {
   "codemirror_mode": {
    "name": "ipython",
    "version": 3
   },
   "file_extension": ".py",
   "mimetype": "text/x-python",
   "name": "python",
   "nbconvert_exporter": "python",
   "pygments_lexer": "ipython3",
   "version": "3.10.4"
  },
  "orig_nbformat": 4
 },
 "nbformat": 4,
 "nbformat_minor": 2
}
